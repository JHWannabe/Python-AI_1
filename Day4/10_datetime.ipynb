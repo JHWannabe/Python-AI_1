{
 "cells": [
  {
   "cell_type": "markdown",
   "id": "f6131180",
   "metadata": {},
   "source": [
    "컴퓨터 시스템의 날짜와 시간을 얻어온다.\n",
    "\n",
    "datetime 패키지 datetime 클래스의 now() 메소드가 컴퓨터 시스템의 날짜와 시간을 얻어올 수 있다."
   ]
  },
  {
   "cell_type": "code",
   "execution_count": 1,
   "id": "c28e5f65",
   "metadata": {},
   "outputs": [
    {
     "name": "stdout",
     "output_type": "stream",
     "text": [
      "2021-07-26 20:22:29.326795\n"
     ]
    }
   ],
   "source": [
    "# datetime 패키지 전체를 import 시킨다.\n",
    "import datetime\n",
    "now = datetime.datetime.now()\n",
    "print(now)"
   ]
  },
  {
   "cell_type": "code",
   "execution_count": 2,
   "id": "31dcc7ca",
   "metadata": {},
   "outputs": [
    {
     "name": "stdout",
     "output_type": "stream",
     "text": [
      "2021-07-26 20:25:07.805196\n"
     ]
    }
   ],
   "source": [
    "# datetime 패키지의 datetime 클래스만 import 시킨다.\n",
    "from datetime import datetime\n",
    "now2 = datetime.now()\n",
    "print(now2)"
   ]
  },
  {
   "cell_type": "code",
   "execution_count": 3,
   "id": "463e7464",
   "metadata": {},
   "outputs": [
    {
     "name": "stdout",
     "output_type": "stream",
     "text": [
      "2021-07-26 20:27:02.904565\n"
     ]
    }
   ],
   "source": [
    "# datetime 패키지의 datetime 클래스만 import 시키고 as 예약어를 사용해서 별명을 지정한다.\n",
    "from datetime import datetime as dt\n",
    "now3 = dt.now()\n",
    "print(now3)"
   ]
  },
  {
   "cell_type": "code",
   "execution_count": 5,
   "id": "b14a2b2a",
   "metadata": {
    "scrolled": true
   },
   "outputs": [
    {
     "name": "stdout",
     "output_type": "stream",
     "text": [
      "년: 2021\n",
      "월: 7\n",
      "일: 26\n",
      "시: 20\n",
      "분: 41\n",
      "초: 39\n",
      "마이크로초: 54949\n",
      "밀리초: 54\n",
      "요일: 0\n",
      "요일: 월\n"
     ]
    }
   ],
   "source": [
    "from datetime import datetime as dt\n",
    "today = dt.now()\n",
    "print(\"년: {}\" .format(today.year))\n",
    "print(\"월: {}\" .format(today.month))\n",
    "print(\"일: {}\" .format(today.day))\n",
    "print(\"시: {}\" .format(today.hour))\n",
    "print(\"분: {}\" .format(today.minute))\n",
    "print(\"초: {}\" .format(today.second))\n",
    "print(\"마이크로초: {}\" .format(today.microsecond))\n",
    "print(\"밀리초: {}\" .format(today.microsecond // 1000))\n",
    "# weekday() 메소드로 요일을 숫자로 얻어온다. => 월(0), 화(1), 수(2), 목(3), 금(4), 토(5), 일(6)\n",
    "print(\"요일: {}\" .format(today.weekday()))\n",
    "week = ['월', '화', '수', '목', '금', '토', '일']\n",
    "print('요일: {}'.format(week[today.weekday()]))"
   ]
  },
  {
   "cell_type": "code",
   "execution_count": null,
   "id": "a2e67db6",
   "metadata": {},
   "outputs": [],
   "source": []
  }
 ],
 "metadata": {
  "kernelspec": {
   "display_name": "Python 3 (ipykernel)",
   "language": "python",
   "name": "python3"
  },
  "language_info": {
   "codemirror_mode": {
    "name": "ipython",
    "version": 3
   },
   "file_extension": ".py",
   "mimetype": "text/x-python",
   "name": "python",
   "nbconvert_exporter": "python",
   "pygments_lexer": "ipython3",
   "version": "3.9.6"
  }
 },
 "nbformat": 4,
 "nbformat_minor": 5
}
