{
 "cells": [
  {
   "cell_type": "code",
   "execution_count": 1,
   "id": "a9351a28",
   "metadata": {},
   "outputs": [],
   "source": [
    "# set 만들기\n",
    "# set은 수학의 집합과 비슷한 형태로 중복되는 데이터의 입력을 허용하지 않는 장접이 있지만\n",
    "# 데이터를 입력하는 순서와 실제로 데이터가 저장되는 순서가 달라서 인덱싱과 슬라이싱을 사용할 수 없다.\n",
    "# 딕셔너리처럼 {}를 사용해서 선언하지만 key가 존재하지 않고 value만 존재한다."
   ]
  },
  {
   "cell_type": "code",
   "execution_count": 2,
   "id": "8a1028dc",
   "metadata": {},
   "outputs": [
    {
     "name": "stdout",
     "output_type": "stream",
     "text": [
      "{}\n",
      "<class 'dict'>\n",
      "set()\n",
      "<class 'set'>\n"
     ]
    }
   ],
   "source": [
    "# 비어있는 set 만들기\n",
    "a = {}\n",
    "print(a)\n",
    "print(type(a))\n",
    "# 빈 set은 {}로 선언하면 빈 딕셔너리가 선언되기 때문에 반드시 생성자 함수 set()을 사용해서 만들어야 한다.\n",
    "b = set()\n",
    "print(b)\n",
    "print(type(b))"
   ]
  },
  {
   "cell_type": "code",
   "execution_count": 3,
   "id": "8d2bcf0e",
   "metadata": {},
   "outputs": [
    {
     "name": "stdout",
     "output_type": "stream",
     "text": [
      "{1, 2, 3, 4}\n",
      "<class 'set'>\n"
     ]
    }
   ],
   "source": [
    "a = {1, 2, 3, 4}\n",
    "print(a)\n",
    "print(type(a))"
   ]
  },
  {
   "cell_type": "code",
   "execution_count": 4,
   "id": "b00bc7c3",
   "metadata": {},
   "outputs": [
    {
     "name": "stdout",
     "output_type": "stream",
     "text": [
      "{1, 2, 3, 4, 5, 6}\n",
      "<class 'set'>\n"
     ]
    }
   ],
   "source": [
    "a = {1, 2, 3, 4, 5, 1, 4, 6, 1, 3, 1}\n",
    "print(a)\n",
    "print(type(a))"
   ]
  },
  {
   "cell_type": "code",
   "execution_count": 5,
   "id": "66234600",
   "metadata": {},
   "outputs": [
    {
     "name": "stdout",
     "output_type": "stream",
     "text": [
      "{'정은지'}\n",
      "{'윤보미', '정은지'}\n",
      "{'오하영', '윤보미', '정은지'}\n",
      "{'오하영', '윤보미', '정은지', '손나은'}\n"
     ]
    }
   ],
   "source": [
    "# add() 메소드로 set에 데이터를 추가한다. => 데이터를 저장하는 순서와 실제 데이터가 저장되는 순서가 다르다.\n",
    "a = {'정은지'}\n",
    "print(a)\n",
    "a.add('윤보미')\n",
    "print(a)\n",
    "a.add('오하영')\n",
    "print(a)\n",
    "a.add('손나은')\n",
    "print(a)\n",
    "a.add('정은지')\n",
    "print(a)\n",
    "\n",
    "# set은 데이터를 입력하는 순서와 저장되는 순서가 다르기 때문에 인덱싱과 슬라이싱을 사용할 수 없다.\n",
    "# print(a[0])   # 에러\n",
    "# print(a[1:3]) # 에러"
   ]
  },
  {
   "cell_type": "code",
   "execution_count": 7,
   "id": "64dec903",
   "metadata": {},
   "outputs": [
    {
     "name": "stdout",
     "output_type": "stream",
     "text": [
      "{'오하영', '윤보미', '김남주', '손나은', '정은지', '박초롱'}\n",
      "{'오하영', '윤보미', '김남주', '손나은', '정은지', '박초롱'}\n",
      "{'오하영', '윤보미', '김남주', '손나은', '서은광', '임현식', '정은지', '박초롱'}\n"
     ]
    }
   ],
   "source": [
    "# update() 메소드를 사용하면 리스트 또는 튜플을 사용해서 set에 여러건의 데이터를 한 번에 추가할 수 있다.\n",
    "print(a)\n",
    "a.update(['박초롱','김남주'])\n",
    "print(a)\n",
    "a.update(('서은광','임현식'))\n",
    "print(a)"
   ]
  },
  {
   "cell_type": "code",
   "execution_count": 9,
   "id": "7cb8b71a",
   "metadata": {},
   "outputs": [
    {
     "name": "stdout",
     "output_type": "stream",
     "text": [
      "{'오하영', '윤보미', '김남주', '손나은', '서은광', '정은지', '박초롱'}\n"
     ]
    },
    {
     "ename": "KeyError",
     "evalue": "'임현식'",
     "output_type": "error",
     "traceback": [
      "\u001b[1;31m---------------------------------------------------------------------------\u001b[0m",
      "\u001b[1;31mKeyError\u001b[0m                                  Traceback (most recent call last)",
      "\u001b[1;32m~\\AppData\\Local\\Temp/ipykernel_10820/2724538851.py\u001b[0m in \u001b[0;36m<module>\u001b[1;34m\u001b[0m\n\u001b[0;32m      2\u001b[0m \u001b[0ma\u001b[0m\u001b[1;33m.\u001b[0m\u001b[0mremove\u001b[0m\u001b[1;33m(\u001b[0m\u001b[1;34m'임현식'\u001b[0m\u001b[1;33m)\u001b[0m\u001b[1;33m\u001b[0m\u001b[1;33m\u001b[0m\u001b[0m\n\u001b[0;32m      3\u001b[0m \u001b[0mprint\u001b[0m\u001b[1;33m(\u001b[0m\u001b[0ma\u001b[0m\u001b[1;33m)\u001b[0m\u001b[1;33m\u001b[0m\u001b[1;33m\u001b[0m\u001b[0m\n\u001b[1;32m----> 4\u001b[1;33m \u001b[0ma\u001b[0m\u001b[1;33m.\u001b[0m\u001b[0mremove\u001b[0m\u001b[1;33m(\u001b[0m\u001b[1;34m'임현식'\u001b[0m\u001b[1;33m)\u001b[0m \u001b[1;31m# set에 저장되지 않은 데이터를 삭제하려  했으므로 에러가 발생한다.\u001b[0m\u001b[1;33m\u001b[0m\u001b[1;33m\u001b[0m\u001b[0m\n\u001b[0m\u001b[0;32m      5\u001b[0m \u001b[0mprint\u001b[0m\u001b[1;33m(\u001b[0m\u001b[0ma\u001b[0m\u001b[1;33m)\u001b[0m\u001b[1;33m\u001b[0m\u001b[1;33m\u001b[0m\u001b[0m\n",
      "\u001b[1;31mKeyError\u001b[0m: '임현식'"
     ]
    }
   ],
   "source": [
    "# remove() 메소드로 set에 저장된 데이터를 지정해서 제거할 수 있다.\n",
    "a.remove('임현식')\n",
    "print(a)\n",
    "a.remove('임현식') # set에 저장되지 않은 데이터를 삭제하려 했으므로 에러가 발생한다.\n",
    "print(a)"
   ]
  },
  {
   "cell_type": "code",
   "execution_count": 10,
   "id": "35deb75d",
   "metadata": {},
   "outputs": [
    {
     "name": "stdout",
     "output_type": "stream",
     "text": [
      "{'오하영', '윤보미', '김남주', '손나은', '정은지', '박초롱'}\n",
      "{'오하영', '윤보미', '김남주', '손나은', '정은지', '박초롱'}\n"
     ]
    }
   ],
   "source": [
    "# discard() 메소드로 set에 저장된 데이터를 지정해서 제거할 수 있다.\n",
    "a.discard('서은광')\n",
    "print(a)\n",
    "a.discard('서은광') # set에 저장되지 않은 데이터를 삭제하려 해도 에러가 발생되지 않는다.\n",
    "print(a)"
   ]
  },
  {
   "cell_type": "code",
   "execution_count": 11,
   "id": "b393e82b",
   "metadata": {},
   "outputs": [
    {
     "name": "stdout",
     "output_type": "stream",
     "text": [
      "set()\n"
     ]
    }
   ],
   "source": [
    "# clear() 메소드로 set에 저장된 모든 데이터를 제거할 수 있다.\n",
    "a.clear()\n",
    "print(a)"
   ]
  },
  {
   "cell_type": "code",
   "execution_count": 12,
   "id": "8118e10a",
   "metadata": {},
   "outputs": [
    {
     "ename": "NameError",
     "evalue": "name 'a' is not defined",
     "output_type": "error",
     "traceback": [
      "\u001b[1;31m---------------------------------------------------------------------------\u001b[0m",
      "\u001b[1;31mNameError\u001b[0m                                 Traceback (most recent call last)",
      "\u001b[1;32m~\\AppData\\Local\\Temp/ipykernel_10820/749518457.py\u001b[0m in \u001b[0;36m<module>\u001b[1;34m\u001b[0m\n\u001b[0;32m      1\u001b[0m \u001b[1;31m# del 명령으로 set 자체를 제거할 수 있다.\u001b[0m\u001b[1;33m\u001b[0m\u001b[1;33m\u001b[0m\u001b[1;33m\u001b[0m\u001b[0m\n\u001b[0;32m      2\u001b[0m \u001b[1;32mdel\u001b[0m \u001b[0ma\u001b[0m\u001b[1;33m\u001b[0m\u001b[1;33m\u001b[0m\u001b[0m\n\u001b[1;32m----> 3\u001b[1;33m \u001b[0mprint\u001b[0m\u001b[1;33m(\u001b[0m\u001b[0ma\u001b[0m\u001b[1;33m)\u001b[0m\u001b[1;33m\u001b[0m\u001b[1;33m\u001b[0m\u001b[0m\n\u001b[0m",
      "\u001b[1;31mNameError\u001b[0m: name 'a' is not defined"
     ]
    }
   ],
   "source": [
    "# del 명령으로 set 자체를 제거할 수 있다.\n",
    "del a\n",
    "print(a)"
   ]
  },
  {
   "cell_type": "markdown",
   "id": "415e7228",
   "metadata": {},
   "source": [
    "집합 연산자와 메소드"
   ]
  },
  {
   "cell_type": "code",
   "execution_count": 15,
   "id": "177bfe28",
   "metadata": {},
   "outputs": [
    {
     "name": "stdout",
     "output_type": "stream",
     "text": [
      "{1, 2, 3, 4, 5, 6, 7}\n",
      "{1, 2, 3, 4, 5, 6, 7}\n",
      "============================================================\n",
      "{3, 4, 5}\n",
      "{3, 4, 5}\n",
      "============================================================\n",
      "{1, 2}\n",
      "{1, 2}\n",
      "============================================================\n",
      "{1, 2, 6, 7}\n",
      "{1, 2, 6, 7}\n",
      "============================================================\n"
     ]
    }
   ],
   "source": [
    "a = {1, 2, 3, 4, 5}\n",
    "b = {3, 4, 5, 6, 7}\n",
    "\n",
    "# 합집합\n",
    "print(a.union(b))\n",
    "print(a | b)\n",
    "print('=' * 60)\n",
    "\n",
    "# 교집합\n",
    "print(a.intersection(b))\n",
    "print(a & b)\n",
    "print('=' * 60)\n",
    "\n",
    "# 차집합\n",
    "print(a.difference(b))\n",
    "print(a - b)\n",
    "print('=' * 60)\n",
    "\n",
    "# 대칭차집합\n",
    "print(a.symmetric_difference(b))\n",
    "print(a ^ b)\n",
    "print('=' * 60)"
   ]
  }
 ],
 "metadata": {
  "kernelspec": {
   "display_name": "Python 3 (ipykernel)",
   "language": "python",
   "name": "python3"
  },
  "language_info": {
   "codemirror_mode": {
    "name": "ipython",
    "version": 3
   },
   "file_extension": ".py",
   "mimetype": "text/x-python",
   "name": "python",
   "nbconvert_exporter": "python",
   "pygments_lexer": "ipython3",
   "version": "3.9.6"
  }
 },
 "nbformat": 4,
 "nbformat_minor": 5
}
