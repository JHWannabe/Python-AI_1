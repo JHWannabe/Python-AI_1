{
 "cells": [
  {
   "cell_type": "markdown",
   "id": "f4d44f17",
   "metadata": {},
   "source": [
    "if 명령의 형식\n",
    "if 조건식:\n",
    "\n",
    "&nbsp;&nbsp;&nbsp;&nbsp; 조건식이 참일 경우 실행할 문장\n",
    "\n",
    "&nbsp;&nbsp;&nbsp;&nbsp; ...\n",
    "\n",
    "else:\n",
    "\n",
    "&nbsp;&nbsp;&nbsp;&nbsp; 조건식이 거짓일 경우 실행할 문장\n",
    "\n",
    "&nbsp;&nbsp;&nbsp;&nbsp; ...\n",
    "\n",
    "조건을 만족하지 않을 때 아무런 일도 하지 않는다면 else 이하를 생략할 수 있다."
   ]
  },
  {
   "cell_type": "code",
   "execution_count": null,
   "id": "593f46fb",
   "metadata": {},
   "outputs": [],
   "source": [
    "# 관계(비교) 연산자 => 연산 결과는 무조건 참(True) 또는 거짓(False)이다.\n",
    "# >  : 크다, 초과\n",
    "# >= : 크거나 같다, 이상\n",
    "# <  : 작다, 미만\n",
    "# <= : 작거나 같다, 이하\n",
    "# == : 같다\n",
    "# != : 같지 않다\n",
    "\n",
    "# 논리 연산자 => 연산 결과는 무조건 참(True) 또는 거짓(False)이다.\n",
    "# and : 논리곱, 두 조건이 모두 참일 경우에만 참, ~이고, ~이면서, ~중에서\n",
    "# or  : 논리합, 두 조건 중에서 하나이상 참일 경우에 참, ~또는, ~이거나\n",
    "# not : 논리부정\n",
    "\n",
    "from IPython.display import Image\n",
    "Image('./andornot.png', width= '900')"
   ]
  },
  {
   "cell_type": "code",
   "execution_count": null,
   "id": "b4aed325",
   "metadata": {},
   "outputs": [],
   "source": [
    "# 산술 연산자(() => ** => *, /, //, % => +, -) => 관계 연산자 => 논리 연산자(not => and => or) => 삼항 연산자 => 대입 연산자"
   ]
  },
  {
   "cell_type": "code",
   "execution_count": 5,
   "id": "13eaf09a",
   "metadata": {},
   "outputs": [
    {
     "name": "stdout",
     "output_type": "stream",
     "text": [
      "나이를 입력하세요: 18\n",
      "<class 'int'>\n",
      "청소년 여러분 이제는 집으로 돌아가야 할 시간입니다.\n"
     ]
    }
   ],
   "source": [
    "age = int(input('나이를 입력하세요: '))\n",
    "print(type(age))\n",
    "\n",
    "if age >= 19:\n",
    "    print('성인입니다. 어서오세요.')\n",
    "else:\n",
    "        print('청소년 여러분 이제는 집으로 돌아가야 할 시간입니다.')"
   ]
  },
  {
   "cell_type": "code",
   "execution_count": 8,
   "id": "f2fa7c50",
   "metadata": {},
   "outputs": [
    {
     "name": "stdout",
     "output_type": "stream",
     "text": [
      "주민등록번호 13자리를 \"-\"없이 입력하세요: 9901114163932\n",
      "여자입니다.\n",
      "여자입니다.\n",
      "여자입니다.\n"
     ]
    }
   ],
   "source": [
    "# 성별\n",
    "ssn = input('주민등록번호 13자리를 \"-\"없이 입력하세요: ')\n",
    "\n",
    "if ssn[6] == '1' or ssn[6] == '3':\n",
    "    print('남자입니다.')\n",
    "if ssn[6] == '2' or ssn[6] == '4':\n",
    "    print('여자입니다.')\n",
    "    \n",
    "if int(ssn[6]) in (1, 3, 5):\n",
    "    print('남자입니다.')\n",
    "else:\n",
    "    print('여자입니다.')\n",
    "    \n",
    "if int(ssn[6]) % 2 == 1:\n",
    "    print('남자입니다.')\n",
    "else:\n",
    "    print('여자입니다.')"
   ]
  },
  {
   "cell_type": "code",
   "execution_count": 1,
   "id": "8cebcaef",
   "metadata": {},
   "outputs": [
    {
     "name": "stdout",
     "output_type": "stream",
     "text": [
      "주민등록번호 13자리를 \"-\"없이 입력하세요: 9901111163932\n",
      "당신의 출생연도는 1999년이고 만 22살 입니다.\n",
      "당신의 출생연도는 1999년이고 만 22살 입니다.\n"
     ]
    }
   ],
   "source": [
    "# 나이\n",
    "ssn = input('주민등록번호 13자리를 \"-\"없이 입력하세요: ')\n",
    "year = int(ssn[:2])\n",
    "\n",
    "'''\n",
    "if int(ssn[6]) in (1, 2):\n",
    "    # '='와 같이 사용하여 연산자를 대입 연산자라 부른다. => 연산 우선순위가 가장 늦다. => +=, -=, *=, /=, //=, %=\n",
    "    year += 1900\n",
    "else:\n",
    "    year += 2000\n",
    "'''\n",
    "    \n",
    "# if 명령의 조건 비교 결과 참 또는 거짓일 때 실행할 문장이 각각 1문장일 경우 삼항 연산자를 사용해서 처리할 수 있다.\n",
    "# 삼항 연산자의 형식 => 조건이 참일 때 실행할 문장 if 조건식 else 조건이 거짓일 경우 실행할 문장\n",
    "year += 1900 if ssn[6] <= '2' else 2000\n",
    "\n",
    "age = 2021 - year\n",
    "print('당신의 출생연도는 {}년이고 만 {}살 입니다.' .format(year,age))\n",
    "\n",
    "from datetime import datetime as dt\n",
    "today = dt.now()\n",
    "print('당신의 출생연도는 {}년이고 만 {}살 입니다.' .format(year,today.year - year))"
   ]
  },
  {
   "cell_type": "code",
   "execution_count": 3,
   "id": "134a9220",
   "metadata": {},
   "outputs": [
    {
     "name": "stdout",
     "output_type": "stream",
     "text": [
      "3과목 점수를 입력하세요: 80 86 77\n",
      "총점: 243, 평균:  81.00\n",
      "B학점입니다.\n"
     ]
    }
   ],
   "source": [
    "# 3과목 점수를 한 번에 입력받아 평균을 계산한 후 A, B, C, D, F를 출력한다.\n",
    "python, java, android = map(int, input('3과목 점수를 입력하세요: ').split())\n",
    "total = python + java + android\n",
    "avg = total / 3\n",
    "print('총점: {0}, 평균: {1:6.2f}'.format(total, avg))\n",
    "\n",
    "if avg >= 90:\n",
    "    print('A학점입니다.')\n",
    "elif avg >= 80:\n",
    "    print('B학점입니다.')\n",
    "elif avg >= 70:\n",
    "    print('C학점입니다.')\n",
    "elif avg >= 60:\n",
    "    print('D학점입니다.')\n",
    "else:\n",
    "    print('F학점입니다.')"
   ]
  },
  {
   "cell_type": "code",
   "execution_count": 10,
   "id": "edb0f2a5",
   "metadata": {
    "scrolled": true
   },
   "outputs": [
    {
     "name": "stdout",
     "output_type": "stream",
     "text": [
      "윤년, 평년을 판별할 년도를 입력하세요: 2021\n",
      "2021년은 평년입니다.\n",
      "2021년은 평년입니다.\n"
     ]
    }
   ],
   "source": [
    "# 윤년, 평년 판별식\n",
    "# 년도가 4로 나눠 떨어지고(and) 100으로 나눠 떨어지지 않거나(or) 400으로 나눠 떨어지면 윤년, 그렇지 않으면 평년\n",
    "year = int(input('윤년, 평년을 판별할 년도를 입력하세요: '))\n",
    "\n",
    "# 단항 연산자 => 이항 연산자 => 삼항 연산자 => 대입 연산자\n",
    "# 이항 연산자: ** => *, /, //, % => + - => 관계 연산자 => 논리 연산자(not => and => or)\n",
    "\n",
    "# 프로그램에서 여러번 사용되는 상수나 연산식의 결과는 변수에 저장시켜 사용하면 관리(유지보수)가 편리해진다.\n",
    "isLeapYear = year % 4 == 0 and year % 100 != 0 or year % 400 == 0\n",
    "\n",
    "if isLeapYear:\n",
    "    print('{}년은 윤년입니다.'.format(year))\n",
    "else:\n",
    "    print('{}년은 평년입니다.'.format(year))\n",
    "    \n",
    "print('{}년은 {}년입니다.' .format(year, '윤' if isLeapYear else '평'))"
   ]
  },
  {
   "cell_type": "code",
   "execution_count": 19,
   "id": "2e8ce2cd",
   "metadata": {},
   "outputs": [
    {
     "name": "stdout",
     "output_type": "stream",
     "text": [
      "가위(1), 바위(2), 보(3): 2\n",
      "비겼다.\n"
     ]
    }
   ],
   "source": [
    "# 가위(1), 바위(2), 보(3)\n",
    "# 컴퓨터가 랜덤하게 뽑아낸  가위, 바위, 보와 사용자가 입력한 가위, 바위, 보를 비교한다.\n",
    "\n",
    "# 난수를 발생시키기 위해서 random 모듈을 import 시킨다.\n",
    "import random\n",
    "\n",
    "# 난수 발생은 randrange(a, b) 메소드를 사용하고 a 부터 b - 1 사이의 난수를 정수로 발생시킨다.\n",
    "# 난수를 실수로 발생시키고 싶다면 random() 메소드를 사용하면 된다. => 0 이상이고 1 미만인 난수를 실수로 발생시킨다.\n",
    "# print(random.random())\n",
    "# print(random.randrange(1,46))\n",
    "cpu = random.randrange(1, 4)\n",
    "# print('cpu: {}'.format(cpu))\n",
    "\n",
    "user = int(input('가위(1), 바위(2), 보(3): '))\n",
    "# print('user: {}' .format(user))\n",
    "\n",
    "# 승리 조건 => cpu == 1 이고 user == 2 또는 cpu == 2 이고 user == 3 또는 cpu == 3 이고 user == 1\n",
    "# 패배 조건 => cpu == 1 이고 user == 3 또는 cpu == 2 이고 user == 1 또는 cpu == 3 이고 user == 2\n",
    "# 승리 조건과 패배 조건을 모두 만족하지 않을 경우 비김 조건이 된다.\n",
    "if cpu == 1 and user == 2 or cpu == 2 and user == 3 or cpu == 3 and user == 1:\n",
    "    print('이겼다.')\n",
    "elif cpu == 1 and user == 3 or cpu == 2 and user == 1or cpu == 3 and user == 2:\n",
    "    print('졌다.')\n",
    "else:\n",
    "    print('비겼다.')"
   ]
  }
 ],
 "metadata": {
  "kernelspec": {
   "display_name": "Python 3 (ipykernel)",
   "language": "python",
   "name": "python3"
  },
  "language_info": {
   "codemirror_mode": {
    "name": "ipython",
    "version": 3
   },
   "file_extension": ".py",
   "mimetype": "text/x-python",
   "name": "python",
   "nbconvert_exporter": "python",
   "pygments_lexer": "ipython3",
   "version": "3.9.6"
  }
 },
 "nbformat": 4,
 "nbformat_minor": 5
}
