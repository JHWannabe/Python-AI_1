{
 "cells": [
  {
   "cell_type": "code",
   "execution_count": 1,
   "id": "8c2a9091",
   "metadata": {},
   "outputs": [],
   "source": [
    "# 이와 같이 import 시키면 함수 이름 앞에 모듈 이름을 쓰지 않아도 된다.\n",
    "# from CalendarModule import weekDay # CalendarModule 이라는 모듈의 weekDay() 함수만 import 시킨다.\n",
    "# from CalendarModule import lastDay # CalendarModule 이라는 모듈의 lastDay() 함수만 import 시킨다."
   ]
  },
  {
   "cell_type": "code",
   "execution_count": 1,
   "id": "3bd40a7c",
   "metadata": {},
   "outputs": [],
   "source": [
    "# 위 2문장에서 import 시키는 함수 weekDay(), lastDay()는 모두 CalendarModule 모듈의 함수이므로 아래와 같이 사용할 수 있다.\n",
    "# from CalendarModule import weekDay, lastDay"
   ]
  },
  {
   "cell_type": "code",
   "execution_count": 6,
   "id": "de8c0b1c",
   "metadata": {},
   "outputs": [],
   "source": [
    "# 아래와 같이 코딩하면 CalendarModule 모듈의 모든 함수를 import 시켜서 사용할 수 있다.\n",
    "from CalendarModule import *"
   ]
  },
  {
   "cell_type": "code",
   "execution_count": 3,
   "id": "314c48bc",
   "metadata": {
    "scrolled": true
   },
   "outputs": [
    {
     "name": "stdout",
     "output_type": "stream",
     "text": [
      "달력을 출력할 년 월을 입력하세요: 2021 9\n",
      "============================\n",
      "        2021년 9월\n",
      "============================\n",
      " 일  월  화  수  목  금  토 \n",
      "============================\n",
      "              1   2   3   4 \n",
      "  5   6   7   8   9  10  11 \n",
      " 12  13  14  15  16  17  18 \n",
      " 19  20  21  22  23  24  25 \n",
      " 26  27  28  29  30 \n",
      "============================\n"
     ]
    }
   ],
   "source": [
    "year, month = map(int, input('달력을 출력할 년 월을 입력하세요: ').split())\n",
    "\n",
    "print('=' * 28)\n",
    "print('        {0:4d}년{1:2d}월'.format(year, month))\n",
    "print('=' * 28)\n",
    "print(' 일  월  화  수  목  금  토 ')\n",
    "print('=' * 28)\n",
    "\n",
    "for i in range(weekDay(year, month, 1)):\n",
    "    print('    ', end ='')\n",
    "\n",
    "for i in range(1, lastDay(year, month) + 1):\n",
    "    print(' {0:2d} '.format(i), end='')\n",
    "    if weekDay(year, month, i) == 6 and i != lastDay(year, month):\n",
    "        print()\n",
    "print('\\n' + '=' * 28)"
   ]
  },
  {
   "cell_type": "code",
   "execution_count": 5,
   "id": "fcc6bb58",
   "metadata": {},
   "outputs": [
    {
     "data": {
      "text/plain": [
       "['__builtins__',\n",
       " '__cached__',\n",
       " '__doc__',\n",
       " '__file__',\n",
       " '__loader__',\n",
       " '__name__',\n",
       " '__package__',\n",
       " '__spec__',\n",
       " 'isLeapYear',\n",
       " 'lastDay',\n",
       " 'totalDay',\n",
       " 'weekDay']"
      ]
     },
     "execution_count": 5,
     "metadata": {},
     "output_type": "execute_result"
    }
   ],
   "source": [
    "import CalendarModule\n",
    "# 특정 모듈에 포함된 함수를 보고 싶다면 모듈을 import 시킨 후 dir() 함수를 실행하면 볼 수 있다.\n",
    "dir(CalendarModule)"
   ]
  },
  {
   "cell_type": "code",
   "execution_count": null,
   "id": "70414cc9",
   "metadata": {},
   "outputs": [],
   "source": [
    "# help() 함수를 실행하면 모듈에서 함수 작성시 입력한 주석(도움말)을 볼 수 있다.\n",
    "help(CalendarModule)"
   ]
  }
 ],
 "metadata": {
  "kernelspec": {
   "display_name": "Python 3 (ipykernel)",
   "language": "python",
   "name": "python3"
  },
  "language_info": {
   "codemirror_mode": {
    "name": "ipython",
    "version": 3
   },
   "file_extension": ".py",
   "mimetype": "text/x-python",
   "name": "python",
   "nbconvert_exporter": "python",
   "pygments_lexer": "ipython3",
   "version": "3.9.6"
  }
 },
 "nbformat": 4,
 "nbformat_minor": 5
}
