{
 "cells": [
  {
   "cell_type": "code",
   "execution_count": 1,
   "id": "5bf0d797",
   "metadata": {},
   "outputs": [
    {
     "name": "stdout",
     "output_type": "stream",
     "text": [
      "3.141592653589793\n"
     ]
    }
   ],
   "source": [
    "import math\n",
    "print(math.pi)"
   ]
  },
  {
   "cell_type": "code",
   "execution_count": 13,
   "id": "dd0221e4",
   "metadata": {},
   "outputs": [],
   "source": [
    "# 반지름을 인수로 넘겨받아 원의 둘레와 너비를 계산하는 함수를 포함하는 클래스\n",
    "class Circle:\n",
    "    def __init__(self, radius = 1):\n",
    "        self.radius = radius\n",
    "        \n",
    "    def __str__(self):\n",
    "        return '원의 반지름: {}'.format(self.radius)\n",
    "    \n",
    "    # 원의 둘레를 계산해서 출력하는 함수\n",
    "    def getRound(self):\n",
    "        print('반지름이 {0:.2f}인 원의 둘레는 {1:.2f}'.format(self.radius, 2 * self.radius * math.pi))\n",
    "\n",
    "    # 원의 넓이를 계산해서 출력하는 함수\n",
    "    def getArea(self):\n",
    "        print('반지름이 {0:.2f}인 원의 넓이는 {1:.2f}'.format(self.radius, self.radius * self.radius * math.pi))"
   ]
  },
  {
   "cell_type": "code",
   "execution_count": 16,
   "id": "0d921ce4",
   "metadata": {},
   "outputs": [
    {
     "name": "stdout",
     "output_type": "stream",
     "text": [
      "원의 반지름: 10\n",
      "반지름이 10.00인 원의 둘레는 62.83\n",
      "반지름이 10.00인 원의 넓이는 314.16\n"
     ]
    }
   ],
   "source": [
    "circle1 = Circle(10)\n",
    "print(circle1)\n",
    "circle1.getRound()\n",
    "circle1.getArea()"
   ]
  },
  {
   "cell_type": "code",
   "execution_count": 17,
   "id": "4dc1a276",
   "metadata": {},
   "outputs": [
    {
     "name": "stdout",
     "output_type": "stream",
     "text": [
      "원의 반지름: 5\n",
      "반지름이 5.00인 원의 둘레는 31.42\n",
      "반지름이 5.00인 원의 넓이는 78.54\n"
     ]
    }
   ],
   "source": [
    "circle2 = Circle(5)\n",
    "print(circle2)\n",
    "circle2.getRound()\n",
    "circle2.getArea()"
   ]
  }
 ],
 "metadata": {
  "kernelspec": {
   "display_name": "Python 3 (ipykernel)",
   "language": "python",
   "name": "python3"
  },
  "language_info": {
   "codemirror_mode": {
    "name": "ipython",
    "version": 3
   },
   "file_extension": ".py",
   "mimetype": "text/x-python",
   "name": "python",
   "nbconvert_exporter": "python",
   "pygments_lexer": "ipython3",
   "version": "3.9.6"
  }
 },
 "nbformat": 4,
 "nbformat_minor": 5
}
