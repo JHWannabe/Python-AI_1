{
 "cells": [
  {
   "cell_type": "code",
   "execution_count": 14,
   "id": "e4fda66e",
   "metadata": {},
   "outputs": [],
   "source": [
    "import sys\n",
    "sys.path.append('E:\\\\userModule') # '\\' 때문에 에러가 발생되면 '\\\\' 또는 '/'로 수정해서 사용한다.\n",
    "import CalM as cm\n",
    "from datetime import datetime as dt"
   ]
  },
  {
   "cell_type": "code",
   "execution_count": 17,
   "id": "c64f58ce",
   "metadata": {},
   "outputs": [
    {
     "name": "stdout",
     "output_type": "stream",
     "text": [
      "메뉴를 선택하시오. (1. 컴퓨터 시스템의 날짜에 따른 달력 출력 2. 사용자 설정으로 달력 출력): 1\n",
      "============================\n",
      "         2021년 8월\n",
      "============================\n",
      " 일  월  화  수  목  금  토 \n",
      "============================\n",
      "  1   2   3   4   5   6   7 \n",
      "  8   9  10  11  12  13  14 \n",
      " 15  16  17  18  19  20  21 \n",
      " 22  23  24  25  26  27  28 \n",
      " 29  30  31 \n",
      "============================\n"
     ]
    }
   ],
   "source": [
    "# 1이 입력되면 컴퓨터 시스템의 날짜에 따른 달력을 출력하고 2가 입력되면 년, 월을 입력받아 달력을 출력한다.\n",
    "menu = input('메뉴를 선택하시오. (1. 컴퓨터 시스템의 날짜에 따른 달력 출력 2. 사용자 설정으로 달력 출력): ')\n",
    "if menu == '1':\n",
    "    now = dt.now()\n",
    "    year = now.year\n",
    "    month = now.month\n",
    "if menu == '2':\n",
    "    year, month = map(int, input('달력을 출력할 년, 월을 입력하세요: ').split())\n",
    "\n",
    "print('=' * 28)\n",
    "print('         {0:4d}년{1:2d}월'.format(year, month))\n",
    "print('=' * 28)\n",
    "print(' 일  월  화  수  목  금  토 ')\n",
    "print('=' * 28)\n",
    "\n",
    "for i in range(cm.weekDay(year, month, 1)):\n",
    "    print('    ', end='')\n",
    "\n",
    "for i in range(1, cm.lastDay(year, month) + 1):\n",
    "    print(' {0:2d} '.format(i), end='')\n",
    "    if cm.weekDay(year, month, i) == 6 and i != cm.lastDay(year, month):\n",
    "        print()\n",
    "print('\\n' + '=' * 28)"
   ]
  },
  {
   "cell_type": "code",
   "execution_count": null,
   "id": "336a247d",
   "metadata": {},
   "outputs": [],
   "source": [
    "import calendarModule\n",
    "# 특정 모듈에 포함된 함수를 보고싶다면 모듈을 import 시킨 후 dir() 함수를 실행하면 볼 수 있다.\n",
    "dir(calendarModule)"
   ]
  },
  {
   "cell_type": "code",
   "execution_count": null,
   "id": "498846ee",
   "metadata": {},
   "outputs": [],
   "source": [
    "# help() 함수를 실행하면 모듈에서 함수 작성시 입력한 주석(도움말)을 볼 수 있다.\n",
    "help(calendarModule)"
   ]
  },
  {
   "cell_type": "code",
   "execution_count": null,
   "id": "e17d8eee",
   "metadata": {},
   "outputs": [],
   "source": []
  },
  {
   "cell_type": "code",
   "execution_count": null,
   "id": "613d925d",
   "metadata": {},
   "outputs": [],
   "source": []
  }
 ],
 "metadata": {
  "kernelspec": {
   "display_name": "Python 3 (ipykernel)",
   "language": "python",
   "name": "python3"
  },
  "language_info": {
   "codemirror_mode": {
    "name": "ipython",
    "version": 3
   },
   "file_extension": ".py",
   "mimetype": "text/x-python",
   "name": "python",
   "nbconvert_exporter": "python",
   "pygments_lexer": "ipython3",
   "version": "3.9.6"
  }
 },
 "nbformat": 4,
 "nbformat_minor": 5
}
